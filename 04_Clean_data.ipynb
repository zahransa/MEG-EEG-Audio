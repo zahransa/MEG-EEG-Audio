{
 "cells": [
  {
   "cell_type": "code",
   "execution_count": 1,
   "id": "87c27197-f3f3-439b-9738-7371a9d068f7",
   "metadata": {},
   "outputs": [],
   "source": [
    "import pathlib\n",
    "import matplotlib\n",
    "\n",
    "import mne\n",
    "import mne_bids\n",
    "\n",
    "matplotlib.use('Qt5Agg')\n",
    "mne.set_log_level('warning')"
   ]
  },
  {
   "cell_type": "code",
   "execution_count": 2,
   "id": "446d1952-0367-47af-8b82-1612d11f8096",
   "metadata": {},
   "outputs": [
    {
     "data": {
      "text/html": [
       "<table class=\"table table-hover table-striped table-sm table-responsive small\">\n",
       "    <tr>\n",
       "        <th>Number of events</th>\n",
       "        <td>320</td>\n",
       "    </tr>\n",
       "    <tr>\n",
       "        <th>Events</th>\n",
       "        \n",
       "        <td>Auditory/Left: 72<br/>Auditory/Right: 73<br/>Button: 16<br/>Smiley: 15<br/>Visual/Left: 73<br/>Visual/Right: 71</td>\n",
       "        \n",
       "    </tr>\n",
       "    <tr>\n",
       "        <th>Time range</th>\n",
       "        <td>-0.300 – 0.499 s</td>\n",
       "    </tr>\n",
       "    <tr>\n",
       "        <th>Baseline</th>\n",
       "        <td>-0.300 – 0.000 s</td>\n",
       "    </tr>\n",
       "</table>"
      ],
      "text/plain": [
       "<EpochsFIF |  320 events (all good), -0.299693 – 0.499488 s, baseline -0.299693 – 0 s, ~441.9 MB, data loaded,\n",
       " 'Auditory/Left': 72\n",
       " 'Auditory/Right': 73\n",
       " 'Visual/Left': 73\n",
       " 'Visual/Right': 71\n",
       " 'Smiley': 15\n",
       " 'Button': 16>"
      ]
     },
     "execution_count": 2,
     "metadata": {},
     "output_type": "execute_result"
    }
   ],
   "source": [
    "epochs = mne.read_epochs(pathlib.Path('out_data') / 'epochs_epo.fif')\n",
    "epochs"
   ]
  },
  {
   "cell_type": "code",
   "execution_count": 3,
   "id": "0ca95e28-d00c-4015-a624-be71251fe911",
   "metadata": {},
   "outputs": [
    {
     "data": {
      "text/html": [
       "<table class=\"table table-hover table-striped table-sm table-responsive small\">\n",
       "    <tr>\n",
       "        <th>Number of events</th>\n",
       "        <td>320</td>\n",
       "    </tr>\n",
       "    <tr>\n",
       "        <th>Events</th>\n",
       "        \n",
       "        <td>Auditory/Left: 72<br/>Auditory/Right: 73<br/>Button: 16<br/>Smiley: 15<br/>Visual/Left: 73<br/>Visual/Right: 71</td>\n",
       "        \n",
       "    </tr>\n",
       "    <tr>\n",
       "        <th>Time range</th>\n",
       "        <td>-0.300 – 0.499 s</td>\n",
       "    </tr>\n",
       "    <tr>\n",
       "        <th>Baseline</th>\n",
       "        <td>-0.300 – 0.000 s</td>\n",
       "    </tr>\n",
       "</table>"
      ],
      "text/plain": [
       "<EpochsFIF |  320 events (all good), -0.299693 – 0.499488 s, baseline -0.299693 – 0 s, ~441.9 MB, data loaded,\n",
       " 'Auditory/Left': 72\n",
       " 'Auditory/Right': 73\n",
       " 'Visual/Left': 73\n",
       " 'Visual/Right': 71\n",
       " 'Smiley': 15\n",
       " 'Button': 16>"
      ]
     },
     "execution_count": 3,
     "metadata": {},
     "output_type": "execute_result"
    }
   ],
   "source": [
    "epochs.apply_baseline((None, 0))"
   ]
  },
  {
   "cell_type": "code",
   "execution_count": 4,
   "id": "6bc62bb6-eb9d-450b-9269-b63ebdf3a532",
   "metadata": {},
   "outputs": [
    {
     "data": {
      "text/plain": [
       "<mne_qt_browser._pg_figure.MNEQtBrowser at 0x20a782084d0>"
      ]
     },
     "execution_count": 4,
     "metadata": {},
     "output_type": "execute_result"
    }
   ],
   "source": [
    "epochs.plot()"
   ]
  },
  {
   "cell_type": "code",
   "execution_count": 12,
   "id": "fc1bb273-3a5e-4fca-89b0-119f8e509139",
   "metadata": {},
   "outputs": [],
   "source": [
    "reject_criteria = dict(mag=3000e-15,     # 3000 fT\n",
    "                       grad=3000e-13,    # 3000 fT/cm\n",
    "                       eeg=150e-6,       # 150 µV\n",
    "                       eog=200e-6)       # 200 µV\n",
    "\n",
    "flat_criteria = dict(mag=1e-15,          # 1 fT\n",
    "                     grad=1e-13,         # 1 fT/cm\n",
    "                     eeg=1e-6)           # 1 µV"
   ]
  },
  {
   "cell_type": "code",
   "execution_count": 11,
   "id": "4164e8e1-dab8-48c8-a44f-754828535691",
   "metadata": {},
   "outputs": [
    {
     "data": {
      "text/plain": [
       "<Figure size 640x480 with 1 Axes>"
      ]
     },
     "execution_count": 11,
     "metadata": {},
     "output_type": "execute_result"
    }
   ],
   "source": [
    "epochs.drop_bad(reject=reject_criteria, flat=flat_criteria)\n",
    "epochs.plot_drop_log()"
   ]
  },
  {
   "cell_type": "code",
   "execution_count": 7,
   "id": "08cfed84-a00d-47f4-993f-76d1634dad1c",
   "metadata": {},
   "outputs": [
    {
     "data": {
      "text/plain": [
       "[<Figure size 640x480 with 4 Axes>]"
      ]
     },
     "execution_count": 7,
     "metadata": {},
     "output_type": "execute_result"
    }
   ],
   "source": [
    "epochs['Visual'].plot_image()\n",
    "epochs.plot_sensors(ch_type='eeg')\n",
    "epochs['Visual'].plot_image(picks='EEG 060')"
   ]
  },
  {
   "cell_type": "code",
   "execution_count": 8,
   "id": "8fa41517-15e8-4940-8b12-1b812b1d323e",
   "metadata": {},
   "outputs": [
    {
     "name": "stderr",
     "output_type": "stream",
     "text": [
      "C:\\Users\\User\\AppData\\Local\\Temp\\ipykernel_14856\\3754373438.py:10: RuntimeWarning: Did not find any events.tsv associated with sub-01_ses-01_task-audiovisual_run-01.\n",
      "\n",
      "The search_str was \"out_data\\sample_BIDS\\sub-01\\**\\meg\\sub-01_ses-01*events.tsv\"\n",
      "  raw = mne_bids.read_raw_bids(bids_path)\n"
     ]
    },
    {
     "data": {
      "text/plain": [
       "[<Figure size 640x480 with 4 Axes>]"
      ]
     },
     "execution_count": 8,
     "metadata": {},
     "output_type": "execute_result"
    }
   ],
   "source": [
    "bids_root = pathlib.Path('out_data/sample_BIDS')\n",
    "\n",
    "bids_path = mne_bids.BIDSPath(subject='01',\n",
    "                              session='01',\n",
    "                              task='audiovisual',\n",
    "                              run='01',\n",
    "                              datatype='meg',\n",
    "                              root=bids_root)\n",
    "\n",
    "raw = mne_bids.read_raw_bids(bids_path)\n",
    "raw.load_data()\n",
    "raw.filter(l_freq=0.1, h_freq=40)\n",
    "\n",
    "ecg_projs, ecg_events = mne.preprocessing.compute_proj_ecg(raw, n_grad=1, n_mag=1, n_eeg=0,\n",
    "                                                           average=True)\n",
    "\n",
    "eog_projs, eog_events = mne.preprocessing.compute_proj_eog(raw, n_grad=1, n_mag=1,\n",
    "                                                           n_eeg=1, average=True)\n",
    "eog_projs\n",
    "projs = eog_projs + ecg_projs\n",
    "projs\n",
    "epochs.add_proj(projs)\n",
    "epochs.plot()\n",
    "epochs_cleaned = epochs.copy().apply_proj()\n",
    "\n",
    "epochs_cleaned['Visual'].plot_image()\n",
    "epochs_cleaned['Visual'].plot_image(picks='EEG 060')"
   ]
  },
  {
   "cell_type": "code",
   "execution_count": 13,
   "id": "089045a6-bec9-40a3-aad4-bb67201f08a8",
   "metadata": {},
   "outputs": [
    {
     "name": "stderr",
     "output_type": "stream",
     "text": [
      "C:\\Users\\User\\AppData\\Local\\Temp\\ipykernel_14856\\699562409.py:10: RuntimeWarning: Did not find any events.tsv associated with sub-01_ses-01_task-audiovisual_run-01.\n",
      "\n",
      "The search_str was \"out_data\\sample_BIDS\\sub-01\\**\\meg\\sub-01_ses-01*events.tsv\"\n",
      "  raw = mne_bids.read_raw_bids(bids_path)\n"
     ]
    },
    {
     "data": {
      "text/html": [
       "<details open>\n",
       "    <summary><strong>General</strong></summary>\n",
       "    <table class=\"table table-hover table-striped table-sm table-responsive small\">\n",
       "        <tr>\n",
       "            <th>Measurement date</th>\n",
       "            \n",
       "            <td>December 03, 2002  19:01:10 GMT</td>\n",
       "            \n",
       "        </tr>\n",
       "        <tr>\n",
       "            <th>Experimenter</th>\n",
       "            \n",
       "            <td>mne_anonymize</td>\n",
       "            \n",
       "        </tr>\n",
       "        <tr>\n",
       "            <th>Participant</th>\n",
       "            \n",
       "            \n",
       "            <td>sub-01</td>\n",
       "            \n",
       "            \n",
       "        </tr>\n",
       "    </table>\n",
       "    </details>\n",
       "    <details open>\n",
       "        <summary><strong>Channels</strong></summary>\n",
       "        <table class=\"table table-hover table-striped table-sm table-responsive small\">\n",
       "            <tr>\n",
       "                <th>Digitized points</th>\n",
       "                \n",
       "                <td>146 points</td>\n",
       "                \n",
       "            </tr>\n",
       "            <tr>\n",
       "                <th>Good channels</th>\n",
       "                <td>203 Gradiometers, 102 Magnetometers, 9 Stimulus, 59 EEG, 1 EOG</td>\n",
       "            </tr>\n",
       "            <tr>\n",
       "                <th>Bad channels</th>\n",
       "                <td>MEG 2443, EEG 053</td>\n",
       "            </tr>\n",
       "            <tr>\n",
       "                <th>EOG channels</th>\n",
       "                <td>EOG 061</td>\n",
       "            </tr>\n",
       "            <tr>\n",
       "                <th>ECG channels</th>\n",
       "                <td>Not available</td>\n",
       "            </tr>\n",
       "        </table>\n",
       "        </details>\n",
       "        <details open>\n",
       "            <summary><strong>Data</strong></summary>\n",
       "            <table class=\"table table-hover table-striped table-sm table-responsive small\">\n",
       "                \n",
       "                <tr>\n",
       "                    <th>Sampling frequency</th>\n",
       "                    <td>600.61 Hz</td>\n",
       "                </tr>\n",
       "                \n",
       "                \n",
       "                <tr>\n",
       "                    <th>Highpass</th>\n",
       "                    <td>1.00 Hz</td>\n",
       "                </tr>\n",
       "                \n",
       "                \n",
       "                <tr>\n",
       "                    <th>Lowpass</th>\n",
       "                    <td>40.00 Hz</td>\n",
       "                </tr>\n",
       "                \n",
       "                \n",
       "                <tr>\n",
       "                    <th>Projections</th>\n",
       "                    <td>PCA-v1 : off<br />PCA-v2 : off<br />PCA-v3 : off</td>\n",
       "                </tr>\n",
       "                \n",
       "                \n",
       "                <tr>\n",
       "                    <th>Filenames</th>\n",
       "                    <td>sub-01_ses-01_task-audiovisual_run-01_meg.fif</td>\n",
       "                </tr>\n",
       "                \n",
       "                \n",
       "                <tr>\n",
       "                    <th>Duration</th>\n",
       "                    <td>00:04:38 (HH:MM:SS)</td>\n",
       "                </tr>\n",
       "                \n",
       "            </table>\n",
       "            </details>"
      ],
      "text/plain": [
       "<Raw | sub-01_ses-01_task-audiovisual_run-01_meg.fif, 376 x 166800 (277.7 s), ~478.9 MB, data loaded>"
      ]
     },
     "execution_count": 13,
     "metadata": {},
     "output_type": "execute_result"
    }
   ],
   "source": [
    "bids_root = pathlib.Path('out_data/sample_BIDS')\n",
    "\n",
    "bids_path = mne_bids.BIDSPath(subject='01',\n",
    "                              session='01',\n",
    "                              task='audiovisual',\n",
    "                              run='01',\n",
    "                              datatype='meg',\n",
    "                              root=bids_root)\n",
    "\n",
    "raw = mne_bids.read_raw_bids(bids_path)\n",
    "raw.load_data()\n",
    "raw.filter(l_freq=1, h_freq=40)  # High-pass with 1. Hz cut-off is recommended for ICA"
   ]
  },
  {
   "cell_type": "code",
   "execution_count": 14,
   "id": "401ea0dc-5cbb-4436-84a4-698720ade53e",
   "metadata": {},
   "outputs": [
    {
     "data": {
      "text/plain": [
       "array([  0,   1,   2,   3,   4,   5,   6,   7,   8,   9,  10,  11,  12,\n",
       "        13,  14,  15,  16,  17,  18,  19,  20,  21,  22,  23,  24,  25,\n",
       "        26,  27,  28,  29,  30,  31,  32,  33,  34,  35,  36,  37,  38,\n",
       "        39,  40,  41,  42,  43,  44,  45,  46,  47,  48,  49,  50,  51,\n",
       "        52,  53,  54,  55,  56,  57,  58,  59,  60,  61,  62,  63,  64,\n",
       "        65,  66,  67,  68,  69,  70,  71,  72,  73,  74,  75,  76,  77,\n",
       "        78,  79,  80,  81,  82,  83,  84,  85,  86,  87,  88,  89,  90,\n",
       "        91,  92,  93,  94,  95,  96,  97,  98,  99, 100, 101, 102, 103,\n",
       "       104, 105, 106, 107, 108, 109, 110, 111, 112, 113, 114, 115, 116,\n",
       "       117, 118, 119, 120, 121, 122, 123, 124, 125, 126, 127, 128, 129,\n",
       "       130, 131, 132, 133, 134, 135, 136, 137, 138, 139, 140, 141, 142,\n",
       "       143, 144, 145, 146, 147, 148, 149, 150, 151, 152, 153, 154, 155,\n",
       "       156, 157, 158, 159, 160, 161, 162, 163, 164, 165, 166, 167, 168,\n",
       "       169, 170, 171, 172, 173, 174, 175, 176, 177, 178, 179, 180, 181,\n",
       "       182, 183, 184, 185, 186, 187, 188, 189, 190, 191, 192, 193, 194,\n",
       "       195, 196, 197, 198, 199, 200, 201, 202, 203, 204, 205, 206, 207,\n",
       "       208, 209, 210, 211, 212, 213, 214, 215, 216, 217, 218, 219, 220,\n",
       "       221, 222, 223, 224, 225, 226, 227, 228, 229, 230, 231, 232, 233,\n",
       "       234, 235, 236, 237, 238, 239, 240, 241, 242, 243, 244, 245, 246,\n",
       "       247, 248, 249, 250, 251, 252, 253, 254, 255, 256, 257, 258, 259,\n",
       "       260, 261, 262, 263, 264, 265, 266, 267, 268, 269, 270, 271, 272,\n",
       "       273, 274, 275, 276, 277, 278, 279, 280, 281, 282, 283, 284, 285,\n",
       "       286, 287, 288, 289, 290, 291, 292, 293, 294, 295, 296, 297, 298,\n",
       "       299, 300, 301, 302, 303, 304, 305, 306, 307, 308, 309, 310, 311,\n",
       "       312, 313, 314, 315, 316, 317, 318, 319])"
      ]
     },
     "execution_count": 14,
     "metadata": {},
     "output_type": "execute_result"
    }
   ],
   "source": [
    "epochs = mne.read_epochs(pathlib.Path('out_data') / 'epochs_epo.fif')\n",
    "epochs_selection = epochs.selection\n",
    "epochs_selection"
   ]
  },
  {
   "cell_type": "code",
   "execution_count": 18,
   "id": "d812713b-dddc-424d-9759-81edaca5696c",
   "metadata": {},
   "outputs": [
    {
     "name": "stdout",
     "output_type": "stream",
     "text": [
      "<Epochs |  320 events (all good), -0.299693 – 0.499488 s, baseline -0.299693 – 0 s, ~444.8 MB, data loaded,\n",
      " 'Auditory/Left': 72\n",
      " 'Auditory/Right': 73\n",
      " 'Visual/Left': 73\n",
      " 'Visual/Right': 71\n",
      " 'Smiley': 15\n",
      " 'Button': 16>\n"
     ]
    }
   ],
   "source": [
    "\n",
    "\n",
    "# Define file paths and directories\n",
    "sample_data_dir = mne.datasets.sample.data_path()\n",
    "sample_data_dir = pathlib.Path(sample_data_dir)\n",
    "raw_path = sample_data_dir / 'MEG' / 'sample' / 'sample_audvis_raw.fif'\n",
    "\n",
    "# Load raw data\n",
    "raw = mne.io.read_raw(raw_path, preload=True)\n",
    "\n",
    "# Find events in the raw data\n",
    "events = mne.find_events(raw)\n",
    "\n",
    "# Define event IDs\n",
    "event_id = {\n",
    "    'Auditory/Left': 1,\n",
    "    'Auditory/Right': 2,\n",
    "    'Visual/Left': 3,\n",
    "    'Visual/Right': 4,\n",
    "    'Smiley': 5,\n",
    "    'Button': 32\n",
    "}\n",
    "\n",
    "# Define epoch parameters\n",
    "tmin = -0.3\n",
    "tmax = 0.5\n",
    "baseline = (None, 0)\n",
    "\n",
    "# Create epochs\n",
    "epochs_ica = mne.Epochs(raw,\n",
    "                        events=events,\n",
    "                        event_id=event_id,\n",
    "                        tmin=tmin,\n",
    "                        tmax=tmax,\n",
    "                        baseline=baseline,\n",
    "                        preload=True)\n",
    "\n",
    "# Print information about epochs\n",
    "print(epochs_ica)\n"
   ]
  },
  {
   "cell_type": "code",
   "execution_count": 19,
   "id": "9b9b0780-589b-4956-8596-720d5db29998",
   "metadata": {},
   "outputs": [
    {
     "data": {
      "text/html": [
       "<details open>\n",
       "    <summary><strong>General</strong></summary>\n",
       "    <table class=\"table table-hover table-striped table-sm table-responsive small\">\n",
       "        <tr>\n",
       "            <th>Measurement date</th>\n",
       "            \n",
       "            <td>December 03, 2002  19:01:10 GMT</td>\n",
       "            \n",
       "        </tr>\n",
       "        <tr>\n",
       "            <th>Experimenter</th>\n",
       "            \n",
       "            <td>MEG</td>\n",
       "            \n",
       "        </tr>\n",
       "        <tr>\n",
       "            <th>Participant</th>\n",
       "            \n",
       "            <td>Unknown</td>\n",
       "            \n",
       "        </tr>\n",
       "    </table>\n",
       "    </details>\n",
       "    <details open>\n",
       "        <summary><strong>Channels</strong></summary>\n",
       "        <table class=\"table table-hover table-striped table-sm table-responsive small\">\n",
       "            <tr>\n",
       "                <th>Digitized points</th>\n",
       "                \n",
       "                <td>146 points</td>\n",
       "                \n",
       "            </tr>\n",
       "            <tr>\n",
       "                <th>Good channels</th>\n",
       "                <td>203 Gradiometers, 102 Magnetometers, 9 Stimulus, 59 EEG, 1 EOG</td>\n",
       "            </tr>\n",
       "            <tr>\n",
       "                <th>Bad channels</th>\n",
       "                <td>MEG 2443, EEG 053</td>\n",
       "            </tr>\n",
       "            <tr>\n",
       "                <th>EOG channels</th>\n",
       "                <td>EOG 061</td>\n",
       "            </tr>\n",
       "            <tr>\n",
       "                <th>ECG channels</th>\n",
       "                <td>Not available</td>\n",
       "            </tr>\n",
       "        </table>\n",
       "        </details>\n",
       "        <details open>\n",
       "            <summary><strong>Data</strong></summary>\n",
       "            <table class=\"table table-hover table-striped table-sm table-responsive small\">\n",
       "                \n",
       "                <tr>\n",
       "                    <th>Sampling frequency</th>\n",
       "                    <td>600.61 Hz</td>\n",
       "                </tr>\n",
       "                \n",
       "                \n",
       "                <tr>\n",
       "                    <th>Highpass</th>\n",
       "                    <td>0.10 Hz</td>\n",
       "                </tr>\n",
       "                \n",
       "                \n",
       "                <tr>\n",
       "                    <th>Lowpass</th>\n",
       "                    <td>172.18 Hz</td>\n",
       "                </tr>\n",
       "                \n",
       "                \n",
       "                <tr>\n",
       "                    <th>Projections</th>\n",
       "                    <td>PCA-v1 : on<br />PCA-v2 : on<br />PCA-v3 : on</td>\n",
       "                </tr>\n",
       "                \n",
       "                \n",
       "                \n",
       "            </table>\n",
       "            </details>"
      ],
      "text/plain": [
       "<Info | 21 non-empty values\n",
       " acq_pars: ACQch001 110113 ACQch002 110112 ACQch003 110111 ACQch004 110122 ...\n",
       " bads: 2 items (MEG 2443, EEG 053)\n",
       " ch_names: MEG 0113, MEG 0112, MEG 0111, MEG 0122, MEG 0123, MEG 0121, MEG ...\n",
       " chs: 204 Gradiometers, 102 Magnetometers, 9 Stimulus, 60 EEG, 1 EOG\n",
       " custom_ref_applied: False\n",
       " description: acquisition (megacq) VectorView system at NMR-MGH\n",
       " dev_head_t: MEG device -> head transform\n",
       " dig: 146 items (3 Cardinal, 4 HPI, 61 EEG, 78 Extra)\n",
       " events: 1 item (list)\n",
       " experimenter: MEG\n",
       " file_id: 4 items (dict)\n",
       " highpass: 0.1 Hz\n",
       " hpi_meas: 1 item (list)\n",
       " hpi_results: 1 item (list)\n",
       " lowpass: 172.2 Hz\n",
       " meas_date: 2002-12-03 19:01:10 UTC\n",
       " meas_id: 4 items (dict)\n",
       " nchan: 376\n",
       " proj_id: 1 item (ndarray)\n",
       " proj_name: test\n",
       " projs: PCA-v1: on, PCA-v2: on, PCA-v3: on\n",
       " sfreq: 600.6 Hz\n",
       ">"
      ]
     },
     "execution_count": 19,
     "metadata": {},
     "output_type": "execute_result"
    }
   ],
   "source": [
    "epochs_ica.info"
   ]
  },
  {
   "cell_type": "code",
   "execution_count": 21,
   "id": "8d16f5d0-64fc-4980-b743-56fe8a6c9d81",
   "metadata": {},
   "outputs": [
    {
     "name": "stderr",
     "output_type": "stream",
     "text": [
      "C:\\Users\\User\\AppData\\Local\\Temp\\ipykernel_14856\\2252495216.py:13: RuntimeWarning: The epochs you passed to ICA.fit() were baseline-corrected. However, we suggest to fit ICA only on data that has been high-pass filtered, but NOT baseline-corrected.\n",
      "  ica.fit(epochs_ica)\n",
      "C:\\Users\\User\\anaconda3\\envs\\mne\\Lib\\site-packages\\picard\\solver.py:213: UserWarning: Picard did not converge. Final gradient norm : 0.0001437. Requested tolerance : 1e-07. Consider increasing the number of iterations or the tolerance.\n",
      "  warnings.warn('Picard did not converge. Final gradient norm : %.4g.'\n"
     ]
    },
    {
     "data": {
      "text/html": [
       "<table class=\"table table-hover table-striped table-sm table-responsive small\">\n",
       "    <tr>\n",
       "        <th>Method</th>\n",
       "        <td>picard</td>\n",
       "    </tr>\n",
       "    <tr>\n",
       "        <th>Fit parameters</th>\n",
       "        <td>fastica_it=5<br />max_iter=100<br /></td>\n",
       "    </tr>\n",
       "    <tr>\n",
       "        <th>Fit</th>\n",
       "        <td>100 iterations on epochs (153920 samples)</td>\n",
       "    </tr>\n",
       "    \n",
       "    <tr>\n",
       "        <th>ICA components</th>\n",
       "        <td>70</td>\n",
       "    </tr>\n",
       "    <tr>\n",
       "        <th>Available PCA components</th>\n",
       "        <td>364</td>\n",
       "    </tr>\n",
       "    <tr>\n",
       "        <th>Channel types</th>\n",
       "        <td>mag, grad, eeg</td>\n",
       "    </tr>\n",
       "    <tr>\n",
       "        <th>ICA components marked for exclusion</th>\n",
       "        <td>&mdash;</td>\n",
       "    </tr>\n",
       "    \n",
       "</table>"
      ],
      "text/plain": [
       "<ICA | epochs decomposition, method: picard (fit in 100 iterations on 153920 samples), 70 ICA components (364 PCA components available), channel types: mag, grad, eeg, no sources marked for exclusion>"
      ]
     },
     "execution_count": 21,
     "metadata": {},
     "output_type": "execute_result"
    }
   ],
   "source": [
    "\n",
    "\n",
    "n_components = 0.8  # Should normally be higher, like 0.999!!\n",
    "method = 'picard'\n",
    "max_iter = 100  # Should normally be higher, like 500 or even 1000!!\n",
    "fit_params = dict(fastica_it=5)\n",
    "random_state = 42\n",
    "\n",
    "ica = mne.preprocessing.ICA(n_components=n_components,\n",
    "                            method=method,\n",
    "                            max_iter=max_iter,\n",
    "                            fit_params=fit_params,\n",
    "                            random_state=random_state)\n",
    "\n",
    "ica.fit(epochs_ica)\n"
   ]
  },
  {
   "cell_type": "code",
   "execution_count": 22,
   "id": "abccbb49-5227-49a7-9492-e861fedd7cd8",
   "metadata": {},
   "outputs": [
    {
     "data": {
      "text/plain": [
       "[<MNEFigure size 975x967 with 20 Axes>,\n",
       " <MNEFigure size 975x967 with 20 Axes>,\n",
       " <MNEFigure size 975x967 with 20 Axes>,\n",
       " <MNEFigure size 975x496 with 10 Axes>]"
      ]
     },
     "execution_count": 22,
     "metadata": {},
     "output_type": "execute_result"
    }
   ],
   "source": [
    "ica.plot_components(inst=epochs)"
   ]
  },
  {
   "cell_type": "code",
   "execution_count": 23,
   "id": "c7ba279b-4634-4cc1-bc5b-7896fb62f9e3",
   "metadata": {},
   "outputs": [],
   "source": [
    "ecg_epochs = mne.preprocessing.create_ecg_epochs(raw, reject=None,\n",
    "                                                 baseline=(None, -0.2),\n",
    "                                                 tmin=-0.5, tmax=0.5)\n",
    "ecg_evoked = ecg_epochs.average()\n",
    "ecg_inds, ecg_scores = ica.find_bads_ecg(\n",
    "    ecg_epochs, method='ctps')\n",
    "\n",
    "\n",
    "eog_epochs = mne.preprocessing.create_eog_epochs(raw, reject=None,\n",
    "                                                 baseline=(None, -0.2),\n",
    "                                                 tmin=-0.5, tmax=0.5)\n",
    "eog_evoked = eog_epochs.average()\n",
    "eog_inds, eog_scores = ica.find_bads_eog(\n",
    "    eog_epochs)\n",
    "\n",
    "components_to_exclude = ecg_inds + eog_inds\n",
    "ica.exclude = components_to_exclude"
   ]
  },
  {
   "cell_type": "code",
   "execution_count": 24,
   "id": "1a49cf95-e904-4dc3-9653-473c7999a7fb",
   "metadata": {},
   "outputs": [
    {
     "data": {
      "text/plain": [
       "<Figure size 640x270 with 1 Axes>"
      ]
     },
     "execution_count": 24,
     "metadata": {},
     "output_type": "execute_result"
    }
   ],
   "source": [
    "ica.plot_scores(ecg_scores)"
   ]
  },
  {
   "cell_type": "code",
   "execution_count": 25,
   "id": "6c5705ab-88f6-4e07-affa-f2fefb294b35",
   "metadata": {},
   "outputs": [
    {
     "data": {
      "text/plain": [
       "<Figure size 640x480 with 1 Axes>"
      ]
     },
     "execution_count": 25,
     "metadata": {},
     "output_type": "execute_result"
    }
   ],
   "source": [
    "ica.plot_sources(ecg_evoked)"
   ]
  },
  {
   "cell_type": "code",
   "execution_count": 26,
   "id": "03da1fd5-81f1-474d-bcbc-1b2adbba56d9",
   "metadata": {},
   "outputs": [
    {
     "name": "stderr",
     "output_type": "stream",
     "text": [
      "C:\\Users\\User\\AppData\\Local\\Temp\\ipykernel_14856\\1509005474.py:1: RuntimeWarning: The data you passed to ICA.apply() was baseline-corrected. Please note that ICA can introduce DC shifts, therefore you may wish to consider baseline-correcting the cleaned data again.\n",
      "  ica.plot_overlay(ecg_evoked)\n"
     ]
    },
    {
     "data": {
      "text/plain": [
       "<Figure size 640x480 with 3 Axes>"
      ]
     },
     "execution_count": 26,
     "metadata": {},
     "output_type": "execute_result"
    }
   ],
   "source": [
    "ica.plot_overlay(ecg_evoked)"
   ]
  },
  {
   "cell_type": "code",
   "execution_count": null,
   "id": "be340b83-849b-4762-94cb-75f247b05fa9",
   "metadata": {},
   "outputs": [],
   "source": []
  }
 ],
 "metadata": {
  "kernelspec": {
   "display_name": "Python 3 (ipykernel)",
   "language": "python",
   "name": "python3"
  },
  "language_info": {
   "codemirror_mode": {
    "name": "ipython",
    "version": 3
   },
   "file_extension": ".py",
   "mimetype": "text/x-python",
   "name": "python",
   "nbconvert_exporter": "python",
   "pygments_lexer": "ipython3",
   "version": "3.12.2"
  }
 },
 "nbformat": 4,
 "nbformat_minor": 5
}
